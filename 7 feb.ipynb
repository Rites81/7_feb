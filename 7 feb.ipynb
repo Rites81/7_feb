{
 "cells": [
  {
   "cell_type": "markdown",
   "id": "76cb89b6",
   "metadata": {},
   "source": [
    "##### Q1. You are writing code for a company. The requirement of the company is that you create a python function that will check whether the password entered by the user is correct or not. The function should take the password as input and return the string “Valid Password” if the entered password follows the below-given password guidelines else it should return “Invalid Password”.\n",
    "\n",
    "\n",
    "Note: 1. The Password should contain at least two uppercase letters and at least two lowercase letters.\n",
    "\n",
    "2. The Password should contain at least a number and three special characters.\n",
    "\n",
    "3. The length of the password should be 10 characters long."
   ]
  },
  {
   "cell_type": "code",
   "execution_count": 3,
   "id": "f07e150b",
   "metadata": {},
   "outputs": [
    {
     "name": "stdout",
     "output_type": "stream",
     "text": [
      "Enter your password: WeakPwd123\n",
      "Valid Password\n"
     ]
    }
   ],
   "source": [
    "import re\n",
    "\n",
    "def check_password(password):\n",
    "    if len(password) != 10:\n",
    "        return \"Invalid Password\"\n",
    "    \n",
    "    uppercase_count = sum(1 for char in password if char.isupper())\n",
    "    lowercase_count = sum(1 for char in password if char.islower())\n",
    "    \n",
    "    digit_count = len(re.findall(r'\\d', password))\n",
    "    special_char_count = len(re.findall(r'[!@#$%^&*()-_+=]',password))\n",
    "    \n",
    "    if uppercase_count >= 2 and lowercase_count >=2 and digit_count >=1 and special_char_count >=3:\n",
    "        return \"Valid Password\"\n",
    "    else:\n",
    "        return \"Invalid Password\"\n",
    "    \n",
    "password = input(\"Enter your password: \")\n",
    "print(check_password(password))\n",
    "\n"
   ]
  },
  {
   "cell_type": "markdown",
   "id": "b4ada8c2",
   "metadata": {},
   "source": [
    "Solve the below-given questions using at least one of the following: \n",
    "\n",
    "1. Lambda function\n",
    "2. Filter function\n",
    "3. Zap function\n",
    "4. List Comprehension\n",
    "\n",
    "\n",
    " Check if the string starts with a particular letterY\n",
    "Check if the string is numericY\n",
    "Sort a list of tuples having fruit names and their quantity. [(\"mango\",99),(\"orange\",80), (\"grapes\", 1000)-\n",
    "Find the squares of numbers from 1 to 10Y\n",
    "Find the cube root of numbers from 1 to 10Y\n",
    "Check if a given number is evenY\n",
    "Filter odd numbers from the given list.\n",
    "[1,2,3,4,5,6,7,8,9,10]\n",
    "\n",
    "Sort a list of integers into positive and negative integers lists.\n",
    " [1,2,3,4,5,6,-1,-2,-3,-4,-5,0]"
   ]
  },
  {
   "cell_type": "code",
   "execution_count": 5,
   "id": "60f2d2cb",
   "metadata": {},
   "outputs": [
    {
     "name": "stdout",
     "output_type": "stream",
     "text": [
      "True\n",
      "False\n"
     ]
    }
   ],
   "source": [
    " ## Check if the string starts with a particular letter:\n",
    "    \n",
    "startsWithLetter = lambda s, letter: s.startswith(letter)\n",
    "print(startsWithLetter(\"apple\", \"a\"))\n",
    "print(startsWithLetter(\"mango\", \"a\"))"
   ]
  },
  {
   "cell_type": "code",
   "execution_count": 6,
   "id": "8a6b4373",
   "metadata": {},
   "outputs": [
    {
     "name": "stdout",
     "output_type": "stream",
     "text": [
      "True\n",
      "False\n"
     ]
    }
   ],
   "source": [
    "isNumeric = lambda s: s.isnumeric()\n",
    "print(isNumeric(\"123\"))\n",
    "print(isNumeric(\"abc\"))"
   ]
  },
  {
   "cell_type": "code",
   "execution_count": 10,
   "id": "51d883f3",
   "metadata": {},
   "outputs": [
    {
     "name": "stdout",
     "output_type": "stream",
     "text": [
      "[('orange', 80), ('mango', 99), ('grapes', 1000)]\n"
     ]
    }
   ],
   "source": [
    "# Sort a list of tuples having fruit names and their quantity:\n",
    "\n",
    "fruits_quantity = [(\"mango\", 99), (\"orange\", 80), (\"grapes\", 1000)]\n",
    "sorted_fruits = sorted(fruits_quantity, key=lambda x: x[1])\n",
    "print(sorted_fruits)"
   ]
  },
  {
   "cell_type": "code",
   "execution_count": 13,
   "id": "fce7a86a",
   "metadata": {},
   "outputs": [
    {
     "name": "stdout",
     "output_type": "stream",
     "text": [
      "[1, 4, 9, 16, 25, 36, 49, 64, 81, 100]\n"
     ]
    }
   ],
   "source": [
    "## Find the squares of numbers from 1 to 10:\n",
    "squares = list(map(lambda x: x**2, range(1, 11)))\n",
    "print(squares)\n"
   ]
  },
  {
   "cell_type": "code",
   "execution_count": 14,
   "id": "446d443e",
   "metadata": {},
   "outputs": [
    {
     "name": "stdout",
     "output_type": "stream",
     "text": [
      "[1.0, 1.26, 1.44, 1.59, 1.71, 1.82, 1.91, 2.0, 2.08, 2.15]\n"
     ]
    }
   ],
   "source": [
    "import math\n",
    "cube_roots = list(map(lambda x: round(math.pow(x, 1/3), 2), range(1,11)))\n",
    "print(cube_roots)"
   ]
  },
  {
   "cell_type": "code",
   "execution_count": 15,
   "id": "fbd7ed5b",
   "metadata": {},
   "outputs": [
    {
     "name": "stdout",
     "output_type": "stream",
     "text": [
      "True\n",
      "False\n"
     ]
    }
   ],
   "source": [
    "# Check if a given number is even:\n",
    "isEven = lambda num: num % 2 == 0\n",
    "print(isEven(4))  \n",
    "print(isEven(7))  \n"
   ]
  },
  {
   "cell_type": "code",
   "execution_count": 16,
   "id": "2bdba242",
   "metadata": {},
   "outputs": [
    {
     "name": "stdout",
     "output_type": "stream",
     "text": [
      "[1, 3, 5, 7, 9]\n"
     ]
    }
   ],
   "source": [
    "# Filter odd numbers from the given list:\n",
    "numbers = [1, 2, 3, 4, 5, 6, 7, 8, 9, 10]\n",
    "odd_numbers = list(filter(lambda x: x % 2 != 0, numbers))\n",
    "print(odd_numbers)\n"
   ]
  },
  {
   "cell_type": "code",
   "execution_count": 17,
   "id": "65a81af2",
   "metadata": {},
   "outputs": [
    {
     "name": "stdout",
     "output_type": "stream",
     "text": [
      "Positive Numbers: [1, 2, 3, 4, 5, 6]\n",
      "Negative Numbers: [-1, -2, -3, -4, -5]\n"
     ]
    }
   ],
   "source": [
    "# Sort a list of integers into positive and negative integers lists:\n",
    "numbers_list = [1, 2, 3, 4, 5, 6, -1, -2, -3, -4, -5, 0]\n",
    "positive_numbers = list(filter(lambda x: x > 0, numbers_list))\n",
    "negative_numbers = list(filter(lambda x: x < 0, numbers_list))\n",
    "print(\"Positive Numbers:\", positive_numbers)\n",
    "print(\"Negative Numbers:\", negative_numbers)\n"
   ]
  },
  {
   "cell_type": "code",
   "execution_count": null,
   "id": "8d938a3c",
   "metadata": {},
   "outputs": [],
   "source": []
  }
 ],
 "metadata": {
  "kernelspec": {
   "display_name": "Python 3 (ipykernel)",
   "language": "python",
   "name": "python3"
  },
  "language_info": {
   "codemirror_mode": {
    "name": "ipython",
    "version": 3
   },
   "file_extension": ".py",
   "mimetype": "text/x-python",
   "name": "python",
   "nbconvert_exporter": "python",
   "pygments_lexer": "ipython3",
   "version": "3.10.10"
  }
 },
 "nbformat": 4,
 "nbformat_minor": 5
}
